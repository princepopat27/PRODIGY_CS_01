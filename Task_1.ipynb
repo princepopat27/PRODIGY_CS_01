{
  "nbformat": 4,
  "nbformat_minor": 0,
  "metadata": {
    "colab": {
      "provenance": [],
      "authorship_tag": "ABX9TyPybAuM8QpRbNILupHNgBHi"
    },
    "kernelspec": {
      "name": "python3",
      "display_name": "Python 3"
    },
    "language_info": {
      "name": "python"
    }
  },
  "cells": [
    {
      "cell_type": "code",
      "execution_count": null,
      "metadata": {
        "colab": {
          "base_uri": "https://localhost:8080/"
        },
        "id": "XUiwdtY86-Cq",
        "outputId": "48bea96b-ca0e-4714-c7a9-8e4106b446f8"
      },
      "outputs": [
        {
          "name": "stdout",
          "output_type": "stream",
          "text": [
            "Enter 'e' for encryption, 'd' for decryption, or 'q' to quit: e\n",
            "Enter the message to encrypt: Hello How Are You\n",
            "Enter the shift value: 5\n",
            "Encrypted message: Mjqqt Mtb Fwj Dtz\n",
            "Enter 'e' for encryption, 'd' for decryption, or 'q' to quit: d\n",
            "Enter the message to decrypt: Mjqqt Mtb Fwj Dtz\n",
            "Enter the shift value: 5\n",
            "Decrypted message: Hello How Are You\n",
            "Enter 'e' for encryption, 'd' for decryption, or 'q' to quit: q\n"
          ]
        }
      ],
      "source": [
        "def caesar_cipher(text, shift, mode):\n",
        "    result = \"\"\n",
        "    for char in text:\n",
        "        if char.isalpha():\n",
        "            if char.islower():\n",
        "                alphabet = 'abcdefghijklmnopqrstuvwxyz'\n",
        "            else:\n",
        "                alphabet = 'ABCDEFGHIJKLMNOPQRSTUVWXYZ'\n",
        "            shifted_idx = (alphabet.index(char) + shift) % 26\n",
        "            if mode == 'decrypt':\n",
        "                shifted_idx = (alphabet.index(char) - shift) % 26\n",
        "            result += alphabet[shifted_idx]\n",
        "        else:\n",
        "            result += char\n",
        "    return result\n",
        "\n",
        "while True:\n",
        "        choice = input(\"Enter 'e' for encryption, 'd' for decryption, or 'q' to quit: \")\n",
        "        if choice == 'q':\n",
        "            break\n",
        "        elif choice == 'e':\n",
        "            text = input(\"Enter the message to encrypt: \")\n",
        "            shift = int(input(\"Enter the shift value: \"))\n",
        "            encrypted_text = caesar_cipher(text, shift, 'encrypt')\n",
        "            print(f\"Encrypted message: {encrypted_text}\")\n",
        "        elif choice == 'd':\n",
        "            text = input(\"Enter the message to decrypt: \")\n",
        "            shift = int(input(\"Enter the shift value: \"))\n",
        "            decrypted_text = caesar_cipher(text, shift, 'decrypt')\n",
        "            print(f\"Decrypted message: {decrypted_text}\")\n",
        "        else:\n",
        "            print(\"Invalid choice, please try again.\")"
      ]
    }
  ]
}